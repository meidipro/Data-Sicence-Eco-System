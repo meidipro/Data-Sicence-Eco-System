{
 "cells": [
  {
   "cell_type": "code",
   "execution_count": null,
   "id": "f4d6b34d-f481-4ae3-aec1-3078e4282337",
   "metadata": {},
   "outputs": [],
   "source": [
    "# Data Science Notebook\n"
   ]
  },
  {
   "cell_type": "code",
   "execution_count": null,
   "id": "b679c2aa-0791-4e05-a1f4-8029645d58e0",
   "metadata": {},
   "outputs": [],
   "source": [
    "## Introduction\n",
    "This notebook provides an overview of data science, including its languages, libraries, tools, and examples of arithmetic operations. It is designed to give a foundational understanding of the key components in data science.\n"
   ]
  },
  {
   "cell_type": "code",
   "execution_count": null,
   "id": "cf6d12f7-dcd9-4c34-94fa-9197eaa724ae",
   "metadata": {},
   "outputs": [],
   "source": [
    "## Data Science Libraries\n",
    "- Pandas\n",
    "- NumPy\n",
    "- Scikit-learn\n",
    "- TensorFlow\n",
    "- Keras\n",
    "- ggplot2\n"
   ]
  },
  {
   "cell_type": "code",
   "execution_count": null,
   "id": "fd9fef64-9f4e-47e5-a6e1-1d54f3408fec",
   "metadata": {},
   "outputs": [],
   "source": [
    "## Data Science Libraries\n",
    "- Pandas\n",
    "- NumPy\n",
    "- Scikit-learn\n",
    "- TensorFlow\n",
    "- Keras\n",
    "- ggplot2\n"
   ]
  },
  {
   "cell_type": "code",
   "execution_count": null,
   "id": "35cadecd-0364-429f-ac79-0866372de7be",
   "metadata": {},
   "outputs": [],
   "source": [
    "## Data Science Tools\n",
    "\n",
    "| Tool          | Purpose                    |\n",
    "|---------------|----------------------------|\n",
    "| Jupyter       | Interactive notebooks      |\n",
    "| RStudio       | IDE for R programming       |\n",
    "| GitHub         | Version control and collaboration |\n",
    "| Apache Spark   | Big data processing         |\n",
    "| Hadoop         | Distributed data storage    |\n"
   ]
  },
  {
   "cell_type": "code",
   "execution_count": null,
   "id": "98b3981a-33e4-4f52-8839-f4c2d5c433c4",
   "metadata": {},
   "outputs": [],
   "source": [
    "## Arithmetic Expression Examples\n",
    "In this section, we will demonstrate some basic arithmetic operations using Python.\n",
    "\n"
   ]
  },
  {
   "cell_type": "code",
   "execution_count": null,
   "id": "3e3aa3ec-170d-467e-97b7-6f17b7fb2f86",
   "metadata": {},
   "outputs": [],
   "source": [
    "# Multiplying and Adding Numbers\n",
    "a = 5\n",
    "b = 3\n",
    "multiplication = a * b\n",
    "addition = a + b\n",
    "multiplication, addition\n"
   ]
  },
  {
   "cell_type": "code",
   "execution_count": null,
   "id": "104c88ca-82fa-4390-bc3e-26d89fd2b0c7",
   "metadata": {},
   "outputs": [],
   "source": [
    "# Convert Minutes to Hours\n",
    "minutes = 150\n",
    "hours = minutes / 60\n",
    "hours\n"
   ]
  },
  {
   "cell_type": "code",
   "execution_count": null,
   "id": "f079b69e-b63f-492a-85e1-a09462d67922",
   "metadata": {},
   "outputs": [],
   "source": [
    "## Objectives\n",
    "- Understand the basic structure of a Jupyter Notebook.\n",
    "- Learn to document and format text using Markdown.\n",
    "- Perform arithmetic operations using Python code cells.\n",
    "- Convert units of measurement using Python.\n"
   ]
  },
  {
   "cell_type": "code",
   "execution_count": null,
   "id": "6cc241f3-d126-4466-b24d-409407bf6dfb",
   "metadata": {},
   "outputs": [],
   "source": [
    "## Author\n",
    "- MD. Mehide Hasan Emon\n",
    "\n"
   ]
  }
 ],
 "metadata": {
  "kernelspec": {
   "display_name": "Python 3 (ipykernel)",
   "language": "python",
   "name": "python3"
  },
  "language_info": {
   "codemirror_mode": {
    "name": "ipython",
    "version": 3
   },
   "file_extension": ".py",
   "mimetype": "text/x-python",
   "name": "python",
   "nbconvert_exporter": "python",
   "pygments_lexer": "ipython3",
   "version": "3.12.5"
  }
 },
 "nbformat": 4,
 "nbformat_minor": 5
}
